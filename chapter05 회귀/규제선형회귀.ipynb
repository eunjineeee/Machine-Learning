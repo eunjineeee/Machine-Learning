{
 "cells": [
  {
   "cell_type": "markdown",
   "metadata": {},
   "source": [
    "- 라쏘회귀(L1 규제)\n",
    "- 릿지회귀(L2 규제)\n",
    "- 엘라스틱넷(L1, L2 규제)"
   ]
  },
  {
   "cell_type": "code",
   "execution_count": 1,
   "metadata": {},
   "outputs": [],
   "source": [
    "import pandas as pd\n",
    "import numpy as np\n",
    "import matplotlib.pyplot as plt\n",
    "import seaborn as sns"
   ]
  },
  {
   "cell_type": "markdown",
   "metadata": {},
   "source": [
    "## 릿지 회귀로 보스턴 집값 예측"
   ]
  },
  {
   "cell_type": "code",
   "execution_count": 2,
   "metadata": {},
   "outputs": [
    {
     "name": "stdout",
     "output_type": "stream",
     "text": [
      "5 folds의 개별 Negative MSE scores:  [-14.604 -24.249 -28.83  -74.663 -27.7  ]\n",
      "5 fold의 RMSE scores : [3.821 4.924 5.369 8.641 5.263]\n",
      "5 fold의 평균 RMSE : 5.604\n"
     ]
    }
   ],
   "source": [
    "# 앞의 LinearRegression 예제에서 분할한 feature 데이터 셋인 X_data과 Target 데이터 셋인 y_target 데이터셋을 그대로 이용\n",
    "from sklearn.linear_model import Ridge\n",
    "from sklearn.model_selection import cross_val_score\n",
    "\n",
    "# boston 데이터셋 로드\n",
    "bostonDF = pd.read_csv('../datasets/Boston.csv')\n",
    "\n",
    "y_target = bostonDF['medv']\n",
    "X_data = bostonDF.drop(columns='medv')\n",
    "\n",
    "# 릿지 클래스\n",
    "ridge = Ridge(alpha = 10)\n",
    "neg_mse_scores = cross_val_score(ridge, X_data, y_target, scoring = 'neg_mean_squared_error', cv = 5)\n",
    "rmse_scores = np.sqrt(-1 * neg_mse_scores)\n",
    "avg_rmse = np.mean(rmse_scores)\n",
    "print('5 folds의 개별 Negative MSE scores: ', np.round(neg_mse_scores, 3))\n",
    "print('5 fold의 RMSE scores :', np.round(rmse_scores, 3))\n",
    "print('5 fold의 평균 RMSE : {0:.3f}'.format(avg_rmse))"
   ]
  },
  {
   "cell_type": "code",
   "execution_count": 3,
   "metadata": {},
   "outputs": [
    {
     "name": "stdout",
     "output_type": "stream",
     "text": [
      "alpha 0일 때 5 fold의 평균 RMSE : 5.844\n",
      "alpha 0.1일 때 5 fold의 평균 RMSE : 5.807\n",
      "alpha 1일 때 5 fold의 평균 RMSE : 5.693\n",
      "alpha 10일 때 5 fold의 평균 RMSE : 5.604\n",
      "alpha 100일 때 5 fold의 평균 RMSE : 5.500\n"
     ]
    }
   ],
   "source": [
    "# alpha값을 0, 0.1, 1, 10, 100으로 변경하면서 RMSE값 측정\n",
    "# Ridge에 사용될 alpha 파라미터의 값들을 정의\n",
    "alphas = [0, 0.1, 1, 10, 100]\n",
    "\n",
    "# alphas list 값을 iteration하면서 alpha에 따른 평균 rmse 구함.\n",
    "for alpha in alphas:\n",
    "    ridge = Ridge(alpha = alpha)\n",
    "\n",
    "    # cross_val_score를 이용하여 5 fold의 평균 RMSE 계산\n",
    "    neg_mse_scores = cross_val_score(ridge, X_data, y_target, scoring = 'neg_mean_squared_error', cv = 5)\n",
    "    avg_rmse = np.mean(np.sqrt(-1 * neg_mse_scores))\n",
    "    print('alpha {0}일 때 5 fold의 평균 RMSE : {1:.3f}'.format(alpha, avg_rmse))"
   ]
  },
  {
   "cell_type": "code",
   "execution_count": 4,
   "metadata": {},
   "outputs": [
    {
     "data": {
      "image/png": "[encoded data removed]",
      "text/plain": [
       "<Figure size 1296x432 with 5 Axes>"
      ]
     },
     "metadata": {
      "needs_background": "light"
     },
     "output_type": "display_data"
    }
   ],
   "source": [
    "# 알파 값이 증가할수록 실제로 회귀 계수 값이 작아지는지 확인해보기\n",
    "\n",
    "# 각 alpha에 따른 회귀 계수 값을 시각화하기 위해 5개의 열로 된 맷플로립 축 생성\n",
    "fig, axs = plt.subplots(figsize = (18, 6), nrows = 1, ncols = 5)\n",
    "# 각 alpha에 따른 회귀 계수 값을 데이터로 저장하기 위한 DataFrame 생성\n",
    "coeff_df = pd.DataFrame()\n",
    "\n",
    "# alpha 리스트 값을 차례로 입력해 회귀 계수 값 시각화 및 데이터 저장. pos는 axis의 위치 지정\n",
    "for pos, alpha in enumerate(alphas):\n",
    "    ridge = Ridge(alpha = alpha)\n",
    "    ridge.fit(X_data, y_target)\n",
    "    # alpha에 따른 피처별 회귀 계수를 Series로 변환하고 이를 DataFrame의 컬럼으로 추가\n",
    "    coeff = pd.Series(data = ridge.coef_, index = X_data.columns)\n",
    "    colname = 'alpha:' + str(alpha)\n",
    "    coeff_df[colname] = coeff\n",
    "    # 막대 그래프로 각 alpha 값에서의 회귀 계수를 시각화. 회귀 계수값이 높은 순으로 표현\n",
    "    coeff = coeff.sort_values(ascending = False) # 회귀 계수 값이 높은 순으로 정렬\n",
    "    axs[pos].set_title(colname)\n",
    "    axs[pos].set_xlim(-3, 6)\n",
    "    sns.barplot(x = coeff.values, y = coeff.index, ax = axs[pos])\n",
    "\n",
    "# for문 바깥에서 맷플로립의 show 호출 및 alpha에 따른 피처별 회귀 계수를 DataFrame으로 표시\n",
    "plt.show()"
   ]
  },
  {
   "cell_type": "code",
   "execution_count": 5,
   "metadata": {},
   "outputs": [
    {
     "data": {
      "text/html": [
       "<div>\n",
       "<style scoped>\n",
       "    .dataframe tbody tr th:only-of-type {\n",
       "        vertical-align: middle;\n",
       "    }\n",
       "\n",
       "    .dataframe tbody tr th {\n",
       "        vertical-align: top;\n",
       "    }\n",
       "\n",
       "    .dataframe thead th {\n",
       "        text-align: right;\n",
       "    }\n",
       "</style>\n",
       "<table border=\"1\" class=\"dataframe\">\n",
       "  <thead>\n",
       "    <tr style=\"text-align: right;\">\n",
       "      <th></th>\n",
       "      <th>alpha:0</th>\n",
       "      <th>alpha:0.1</th>\n",
       "      <th>alpha:1</th>\n",
       "      <th>alpha:10</th>\n",
       "      <th>alpha:100</th>\n",
       "    </tr>\n",
       "  </thead>\n",
       "  <tbody>\n",
       "    <tr>\n",
       "      <th>rm</th>\n",
       "      <td>3.839225</td>\n",
       "      <td>3.847742</td>\n",
       "      <td>3.884133</td>\n",
       "      <td>3.730589</td>\n",
       "      <td>2.348374</td>\n",
       "    </tr>\n",
       "    <tr>\n",
       "      <th>chas</th>\n",
       "      <td>2.705245</td>\n",
       "      <td>2.688771</td>\n",
       "      <td>2.572215</td>\n",
       "      <td>1.968828</td>\n",
       "      <td>0.642700</td>\n",
       "    </tr>\n",
       "    <tr>\n",
       "      <th>rad</th>\n",
       "      <td>0.324925</td>\n",
       "      <td>0.322626</td>\n",
       "      <td>0.310511</td>\n",
       "      <td>0.301086</td>\n",
       "      <td>0.332157</td>\n",
       "    </tr>\n",
       "    <tr>\n",
       "      <th>zn</th>\n",
       "      <td>0.048031</td>\n",
       "      <td>0.048197</td>\n",
       "      <td>0.049148</td>\n",
       "      <td>0.051333</td>\n",
       "      <td>0.055823</td>\n",
       "    </tr>\n",
       "    <tr>\n",
       "      <th>indus</th>\n",
       "      <td>0.019932</td>\n",
       "      <td>0.015425</td>\n",
       "      <td>-0.009068</td>\n",
       "      <td>-0.042707</td>\n",
       "      <td>-0.052455</td>\n",
       "    </tr>\n",
       "    <tr>\n",
       "      <th>black</th>\n",
       "      <td>0.009357</td>\n",
       "      <td>0.009413</td>\n",
       "      <td>0.009716</td>\n",
       "      <td>0.010075</td>\n",
       "      <td>0.009416</td>\n",
       "    </tr>\n",
       "    <tr>\n",
       "      <th>age</th>\n",
       "      <td>-0.001938</td>\n",
       "      <td>-0.002915</td>\n",
       "      <td>-0.008131</td>\n",
       "      <td>-0.013394</td>\n",
       "      <td>-0.000734</td>\n",
       "    </tr>\n",
       "    <tr>\n",
       "      <th>Unnamed: 0</th>\n",
       "      <td>-0.002526</td>\n",
       "      <td>-0.002553</td>\n",
       "      <td>-0.002694</td>\n",
       "      <td>-0.002796</td>\n",
       "      <td>-0.002172</td>\n",
       "    </tr>\n",
       "    <tr>\n",
       "      <th>tax</th>\n",
       "      <td>-0.011598</td>\n",
       "      <td>-0.011675</td>\n",
       "      <td>-0.012119</td>\n",
       "      <td>-0.013164</td>\n",
       "      <td>-0.015208</td>\n",
       "    </tr>\n",
       "    <tr>\n",
       "      <th>crim</th>\n",
       "      <td>-0.108762</td>\n",
       "      <td>-0.108240</td>\n",
       "      <td>-0.105445</td>\n",
       "      <td>-0.102379</td>\n",
       "      <td>-0.102900</td>\n",
       "    </tr>\n",
       "    <tr>\n",
       "      <th>lstat</th>\n",
       "      <td>-0.526184</td>\n",
       "      <td>-0.527396</td>\n",
       "      <td>-0.534795</td>\n",
       "      <td>-0.560909</td>\n",
       "      <td>-0.662552</td>\n",
       "    </tr>\n",
       "    <tr>\n",
       "      <th>ptratio</th>\n",
       "      <td>-0.947985</td>\n",
       "      <td>-0.936105</td>\n",
       "      <td>-0.872087</td>\n",
       "      <td>-0.795340</td>\n",
       "      <td>-0.828259</td>\n",
       "    </tr>\n",
       "    <tr>\n",
       "      <th>dis</th>\n",
       "      <td>-1.493304</td>\n",
       "      <td>-1.477753</td>\n",
       "      <td>-1.392938</td>\n",
       "      <td>-1.271391</td>\n",
       "      <td>-1.169480</td>\n",
       "    </tr>\n",
       "    <tr>\n",
       "      <th>nox</th>\n",
       "      <td>-17.541602</td>\n",
       "      <td>-16.471085</td>\n",
       "      <td>-10.631358</td>\n",
       "      <td>-2.338156</td>\n",
       "      <td>-0.259752</td>\n",
       "    </tr>\n",
       "  </tbody>\n",
       "</table>\n",
       "</div>"
      ],
      "text/plain": [
       "              alpha:0  alpha:0.1    alpha:1  alpha:10  alpha:100\n",
       "rm           3.839225   3.847742   3.884133  3.730589   2.348374\n",
       "chas         2.705245   2.688771   2.572215  1.968828   0.642700\n",
       "rad          0.324925   0.322626   0.310511  0.301086   0.332157\n",
       "zn           0.048031   0.048197   0.049148  0.051333   0.055823\n",
       "indus        0.019932   0.015425  -0.009068 -0.042707  -0.052455\n",
       "black        0.009357   0.009413   0.009716  0.010075   0.009416\n",
       "age         -0.001938  -0.002915  -0.008131 -0.013394  -0.000734\n",
       "Unnamed: 0  -0.002526  -0.002553  -0.002694 -0.002796  -0.002172\n",
       "tax         -0.011598  -0.011675  -0.012119 -0.013164  -0.015208\n",
       "crim        -0.108762  -0.108240  -0.105445 -0.102379  -0.102900\n",
       "lstat       -0.526184  -0.527396  -0.534795 -0.560909  -0.662552\n",
       "ptratio     -0.947985  -0.936105  -0.872087 -0.795340  -0.828259\n",
       "dis         -1.493304  -1.477753  -1.392938 -1.271391  -1.169480\n",
       "nox        -17.541602 -16.471085 -10.631358 -2.338156  -0.259752"
      ]
     },
     "execution_count": 5,
     "metadata": {},
     "output_type": "execute_result"
    }
   ],
   "source": [
    "# 알파값에 따른 회귀 계수 출력\n",
    "ridge_alphas = [0, 0.1, 1, 10, 100]\n",
    "sort_column = 'alpha:' + str(ridge_alphas[0])\n",
    "coeff_df.sort_values(by = sort_column, ascending = False)"
   ]
  },
  {
   "cell_type": "markdown",
   "metadata": {},
   "source": [
    "## 라쏘 회귀\n",
    "- L2규제는 회귀 계수의 크기를 감소시키지만 L1규제는 불필요한 회귀계수를 0으로 만듦\n",
    "- L2 규제 : 이상치나 노이즈가 있는 데이터에 대한 학습을 진행할 때 사용하면 좋음 / 회귀 계수 값의 증감을 관리\n",
    "- L1 규제 : 가중치의 크기에 상관없이 상수값을 뺌 / 적절한 피처만 포함시키는 피처 셀렉션의 특성을 가짐"
   ]
  },
  {
   "cell_type": "code",
   "execution_count": 6,
   "metadata": {},
   "outputs": [],
   "source": [
    "from sklearn.linear_model import Lasso, ElasticNet\n",
    "\n",
    "# alpha값에 따른 회귀 모델의 폴드 평균 RMSE를 출력하고, 회귀 계수값들을 DataFrame으로 반환해주는 함수\n",
    "def get_linear_reg_eval(model_name, params = None, X_data_n = None, y_target_n = None, verbose = True):\n",
    "    coeff_df = pd.DataFrame()\n",
    "    if verbose : print(\"#######\", model_name, '#######')\n",
    "    for param in params:\n",
    "        if model_name == 'Ridge': model = Ridge(alpha = param)\n",
    "        elif model_name == 'Lasso': model = Lasso(alpha = param)\n",
    "        elif model_name == 'ElasticNet' : model = ElasticNet(alpha = param, l1_ratio = 0.7)\n",
    "        neg_mse_scores = cross_val_score(model, X_data_n, y_target_n, scoring = 'neg_mean_squared_error', cv = 5)\n",
    "        avg_rmse = np.mean(np.sqrt(-1 * neg_mse_scores))\n",
    "        print('alpha {0}일 때 5 fold 세트의 평균 RMSE : {1:.3f}'.format(param, avg_rmse))\n",
    "\n",
    "        # cross_val_score는 evaluation metric만 반환하므로 모델을 다시 학습하여 회귀 계수 추출\n",
    "        model.fit(X_data, y_target)\n",
    "        # alpha에 따른 피처별 회귀 계수를 Series로 변환하고 이를 DataFrame의 컬럼으로 추가\n",
    "        coeff = pd.Series(data = model.coef_, index = X_data.columns)\n",
    "        colname = 'alpha:' + str(param)\n",
    "        coeff_df[colname] = coeff\n",
    "    return coeff_df\n",
    "# end of get_linear_regre_eval"
   ]
  },
  {
   "cell_type": "code",
   "execution_count": 7,
   "metadata": {},
   "outputs": [
    {
     "name": "stdout",
     "output_type": "stream",
     "text": [
      "####### Lasso #######\n",
      "alpha 0.07일 때 5 fold 세트의 평균 RMSE : 5.714\n",
      "alpha 0.1일 때 5 fold 세트의 평균 RMSE : 5.731\n",
      "alpha 0.5일 때 5 fold 세트의 평균 RMSE : 5.868\n",
      "alpha 1일 때 5 fold 세트의 평균 RMSE : 6.082\n",
      "alpha 3일 때 5 fold 세트의 평균 RMSE : 6.783\n"
     ]
    }
   ],
   "source": [
    "# 라쏘에 사용될 alpha 파라미터의 값들을 정의하고 get_linear_reg_eval() 함수 호출\n",
    "lasso_alphas = [0.07, 0.1, 0.5, 1, 3]\n",
    "coeff_lasso_df = get_linear_reg_eval('Lasso', params = lasso_alphas, X_data_n = X_data, y_target_n = y_target)"
   ]
  },
  {
   "cell_type": "code",
   "execution_count": 8,
   "metadata": {},
   "outputs": [
    {
     "data": {
      "text/html": [
       "<div>\n",
       "<style scoped>\n",
       "    .dataframe tbody tr th:only-of-type {\n",
       "        vertical-align: middle;\n",
       "    }\n",
       "\n",
       "    .dataframe tbody tr th {\n",
       "        vertical-align: top;\n",
       "    }\n",
       "\n",
       "    .dataframe thead th {\n",
       "        text-align: right;\n",
       "    }\n",
       "</style>\n",
       "<table border=\"1\" class=\"dataframe\">\n",
       "  <thead>\n",
       "    <tr style=\"text-align: right;\">\n",
       "      <th></th>\n",
       "      <th>alpha:0.07</th>\n",
       "      <th>alpha:0.1</th>\n",
       "      <th>alpha:0.5</th>\n",
       "      <th>alpha:1</th>\n",
       "      <th>alpha:3</th>\n",
       "    </tr>\n",
       "  </thead>\n",
       "  <tbody>\n",
       "    <tr>\n",
       "      <th>rm</th>\n",
       "      <td>3.818942</td>\n",
       "      <td>3.731253</td>\n",
       "      <td>2.514752</td>\n",
       "      <td>0.951835</td>\n",
       "      <td>0.000000</td>\n",
       "    </tr>\n",
       "    <tr>\n",
       "      <th>chas</th>\n",
       "      <td>1.456124</td>\n",
       "      <td>0.976090</td>\n",
       "      <td>0.000000</td>\n",
       "      <td>0.000000</td>\n",
       "      <td>0.000000</td>\n",
       "    </tr>\n",
       "    <tr>\n",
       "      <th>rad</th>\n",
       "      <td>0.292072</td>\n",
       "      <td>0.295033</td>\n",
       "      <td>0.289568</td>\n",
       "      <td>0.266066</td>\n",
       "      <td>0.043498</td>\n",
       "    </tr>\n",
       "    <tr>\n",
       "      <th>zn</th>\n",
       "      <td>0.050777</td>\n",
       "      <td>0.050862</td>\n",
       "      <td>0.050519</td>\n",
       "      <td>0.049306</td>\n",
       "      <td>0.036391</td>\n",
       "    </tr>\n",
       "    <tr>\n",
       "      <th>black</th>\n",
       "      <td>0.010285</td>\n",
       "      <td>0.010284</td>\n",
       "      <td>0.009491</td>\n",
       "      <td>0.008250</td>\n",
       "      <td>0.006497</td>\n",
       "    </tr>\n",
       "    <tr>\n",
       "      <th>nox</th>\n",
       "      <td>-0.000000</td>\n",
       "      <td>-0.000000</td>\n",
       "      <td>-0.000000</td>\n",
       "      <td>-0.000000</td>\n",
       "      <td>0.000000</td>\n",
       "    </tr>\n",
       "    <tr>\n",
       "      <th>Unnamed: 0</th>\n",
       "      <td>-0.002738</td>\n",
       "      <td>-0.002631</td>\n",
       "      <td>-0.001545</td>\n",
       "      <td>-0.000216</td>\n",
       "      <td>0.002388</td>\n",
       "    </tr>\n",
       "    <tr>\n",
       "      <th>tax</th>\n",
       "      <td>-0.013477</td>\n",
       "      <td>-0.013789</td>\n",
       "      <td>-0.014993</td>\n",
       "      <td>-0.015155</td>\n",
       "      <td>-0.009370</td>\n",
       "    </tr>\n",
       "    <tr>\n",
       "      <th>age</th>\n",
       "      <td>-0.014332</td>\n",
       "      <td>-0.012560</td>\n",
       "      <td>0.002135</td>\n",
       "      <td>0.020707</td>\n",
       "      <td>0.043925</td>\n",
       "    </tr>\n",
       "    <tr>\n",
       "      <th>indus</th>\n",
       "      <td>-0.041745</td>\n",
       "      <td>-0.036255</td>\n",
       "      <td>-0.004927</td>\n",
       "      <td>-0.000000</td>\n",
       "      <td>-0.000000</td>\n",
       "    </tr>\n",
       "    <tr>\n",
       "      <th>crim</th>\n",
       "      <td>-0.099144</td>\n",
       "      <td>-0.098811</td>\n",
       "      <td>-0.083865</td>\n",
       "      <td>-0.063555</td>\n",
       "      <td>-0.000000</td>\n",
       "    </tr>\n",
       "    <tr>\n",
       "      <th>lstat</th>\n",
       "      <td>-0.561761</td>\n",
       "      <td>-0.570047</td>\n",
       "      <td>-0.657086</td>\n",
       "      <td>-0.761224</td>\n",
       "      <td>-0.804369</td>\n",
       "    </tr>\n",
       "    <tr>\n",
       "      <th>ptratio</th>\n",
       "      <td>-0.762716</td>\n",
       "      <td>-0.768361</td>\n",
       "      <td>-0.757616</td>\n",
       "      <td>-0.722847</td>\n",
       "      <td>-0.262720</td>\n",
       "    </tr>\n",
       "    <tr>\n",
       "      <th>dis</th>\n",
       "      <td>-1.199397</td>\n",
       "      <td>-1.182458</td>\n",
       "      <td>-0.949550</td>\n",
       "      <td>-0.670667</td>\n",
       "      <td>-0.000000</td>\n",
       "    </tr>\n",
       "  </tbody>\n",
       "</table>\n",
       "</div>"
      ],
      "text/plain": [
       "            alpha:0.07  alpha:0.1  alpha:0.5   alpha:1   alpha:3\n",
       "rm            3.818942   3.731253   2.514752  0.951835  0.000000\n",
       "chas          1.456124   0.976090   0.000000  0.000000  0.000000\n",
       "rad           0.292072   0.295033   0.289568  0.266066  0.043498\n",
       "zn            0.050777   0.050862   0.050519  0.049306  0.036391\n",
       "black         0.010285   0.010284   0.009491  0.008250  0.006497\n",
       "nox          -0.000000  -0.000000  -0.000000 -0.000000  0.000000\n",
       "Unnamed: 0   -0.002738  -0.002631  -0.001545 -0.000216  0.002388\n",
       "tax          -0.013477  -0.013789  -0.014993 -0.015155 -0.009370\n",
       "age          -0.014332  -0.012560   0.002135  0.020707  0.043925\n",
       "indus        -0.041745  -0.036255  -0.004927 -0.000000 -0.000000\n",
       "crim         -0.099144  -0.098811  -0.083865 -0.063555 -0.000000\n",
       "lstat        -0.561761  -0.570047  -0.657086 -0.761224 -0.804369\n",
       "ptratio      -0.762716  -0.768361  -0.757616 -0.722847 -0.262720\n",
       "dis          -1.199397  -1.182458  -0.949550 -0.670667 -0.000000"
      ]
     },
     "execution_count": 8,
     "metadata": {},
     "output_type": "execute_result"
    }
   ],
   "source": [
    "# 반환된 coeff_lasso_df를 첫번째 컬럼 순으로 내림파순 정렬하여 회귀계수 DataFrame 출력\n",
    "sort_column = 'alpha:' + str(lasso_alphas[0])\n",
    "coeff_lasso_df.sort_values(by = sort_column, ascending = False)"
   ]
  },
  {
   "cell_type": "code",
   "execution_count": 9,
   "metadata": {},
   "outputs": [
    {
     "name": "stdout",
     "output_type": "stream",
     "text": [
      "####### ElasticNet #######\n",
      "alpha 0.07일 때 5 fold 세트의 평균 RMSE : 5.647\n",
      "alpha 0.1일 때 5 fold 세트의 평균 RMSE : 5.645\n",
      "alpha 0.5일 때 5 fold 세트의 평균 RMSE : 5.682\n",
      "alpha 1일 때 5 fold 세트의 평균 RMSE : 5.902\n",
      "alpha 3일 때 5 fold 세트의 평균 RMSE : 6.607\n"
     ]
    }
   ],
   "source": [
    "# 엘라스틱넷에 사용될 alpha 파라미터의 값들을 정의하고 get_linear_reg_eval() 함수 호출\n",
    "# l1_ratio는 0.7로 고정\n",
    "elastic_alphas = [0.07, 0.1, 0.5, 1, 3]\n",
    "coeff_elastic_df = get_linear_reg_eval('ElasticNet', params = elastic_alphas, X_data_n = X_data, y_target_n = y_target)"
   ]
  },
  {
   "cell_type": "code",
   "execution_count": 10,
   "metadata": {},
   "outputs": [
    {
     "data": {
      "text/html": [
       "<div>\n",
       "<style scoped>\n",
       "    .dataframe tbody tr th:only-of-type {\n",
       "        vertical-align: middle;\n",
       "    }\n",
       "\n",
       "    .dataframe tbody tr th {\n",
       "        vertical-align: top;\n",
       "    }\n",
       "\n",
       "    .dataframe thead th {\n",
       "        text-align: right;\n",
       "    }\n",
       "</style>\n",
       "<table border=\"1\" class=\"dataframe\">\n",
       "  <thead>\n",
       "    <tr style=\"text-align: right;\">\n",
       "      <th></th>\n",
       "      <th>alpha:0.07</th>\n",
       "      <th>alpha:0.1</th>\n",
       "      <th>alpha:0.5</th>\n",
       "      <th>alpha:1</th>\n",
       "      <th>alpha:3</th>\n",
       "    </tr>\n",
       "  </thead>\n",
       "  <tbody>\n",
       "    <tr>\n",
       "      <th>rm</th>\n",
       "      <td>3.601129</td>\n",
       "      <td>3.438970</td>\n",
       "      <td>1.928772</td>\n",
       "      <td>0.941199</td>\n",
       "      <td>0.000000</td>\n",
       "    </tr>\n",
       "    <tr>\n",
       "      <th>chas</th>\n",
       "      <td>1.346550</td>\n",
       "      <td>0.993541</td>\n",
       "      <td>0.000000</td>\n",
       "      <td>0.000000</td>\n",
       "      <td>0.000000</td>\n",
       "    </tr>\n",
       "    <tr>\n",
       "      <th>rad</th>\n",
       "      <td>0.299580</td>\n",
       "      <td>0.303398</td>\n",
       "      <td>0.312441</td>\n",
       "      <td>0.293131</td>\n",
       "      <td>0.133409</td>\n",
       "    </tr>\n",
       "    <tr>\n",
       "      <th>zn</th>\n",
       "      <td>0.051794</td>\n",
       "      <td>0.052230</td>\n",
       "      <td>0.053800</td>\n",
       "      <td>0.052423</td>\n",
       "      <td>0.037272</td>\n",
       "    </tr>\n",
       "    <tr>\n",
       "      <th>black</th>\n",
       "      <td>0.010158</td>\n",
       "      <td>0.010100</td>\n",
       "      <td>0.009132</td>\n",
       "      <td>0.008325</td>\n",
       "      <td>0.007012</td>\n",
       "    </tr>\n",
       "    <tr>\n",
       "      <th>Unnamed: 0</th>\n",
       "      <td>-0.002684</td>\n",
       "      <td>-0.002573</td>\n",
       "      <td>-0.001486</td>\n",
       "      <td>-0.000479</td>\n",
       "      <td>0.001819</td>\n",
       "    </tr>\n",
       "    <tr>\n",
       "      <th>age</th>\n",
       "      <td>-0.012691</td>\n",
       "      <td>-0.010708</td>\n",
       "      <td>0.006419</td>\n",
       "      <td>0.019934</td>\n",
       "      <td>0.044864</td>\n",
       "    </tr>\n",
       "    <tr>\n",
       "      <th>tax</th>\n",
       "      <td>-0.013729</td>\n",
       "      <td>-0.014053</td>\n",
       "      <td>-0.015613</td>\n",
       "      <td>-0.016078</td>\n",
       "      <td>-0.012004</td>\n",
       "    </tr>\n",
       "    <tr>\n",
       "      <th>indus</th>\n",
       "      <td>-0.044587</td>\n",
       "      <td>-0.042322</td>\n",
       "      <td>-0.022934</td>\n",
       "      <td>-0.000000</td>\n",
       "      <td>-0.000000</td>\n",
       "    </tr>\n",
       "    <tr>\n",
       "      <th>crim</th>\n",
       "      <td>-0.100386</td>\n",
       "      <td>-0.100111</td>\n",
       "      <td>-0.089590</td>\n",
       "      <td>-0.073759</td>\n",
       "      <td>-0.018629</td>\n",
       "    </tr>\n",
       "    <tr>\n",
       "      <th>nox</th>\n",
       "      <td>-0.144683</td>\n",
       "      <td>-0.000000</td>\n",
       "      <td>-0.000000</td>\n",
       "      <td>-0.000000</td>\n",
       "      <td>-0.000000</td>\n",
       "    </tr>\n",
       "    <tr>\n",
       "      <th>lstat</th>\n",
       "      <td>-0.576316</td>\n",
       "      <td>-0.589166</td>\n",
       "      <td>-0.695025</td>\n",
       "      <td>-0.760875</td>\n",
       "      <td>-0.798066</td>\n",
       "    </tr>\n",
       "    <tr>\n",
       "      <th>ptratio</th>\n",
       "      <td>-0.777041</td>\n",
       "      <td>-0.782782</td>\n",
       "      <td>-0.790314</td>\n",
       "      <td>-0.738564</td>\n",
       "      <td>-0.422896</td>\n",
       "    </tr>\n",
       "    <tr>\n",
       "      <th>dis</th>\n",
       "      <td>-1.211129</td>\n",
       "      <td>-1.194755</td>\n",
       "      <td>-0.987266</td>\n",
       "      <td>-0.728611</td>\n",
       "      <td>-0.021446</td>\n",
       "    </tr>\n",
       "  </tbody>\n",
       "</table>\n",
       "</div>"
      ],
      "text/plain": [
       "            alpha:0.07  alpha:0.1  alpha:0.5   alpha:1   alpha:3\n",
       "rm            3.601129   3.438970   1.928772  0.941199  0.000000\n",
       "chas          1.346550   0.993541   0.000000  0.000000  0.000000\n",
       "rad           0.299580   0.303398   0.312441  0.293131  0.133409\n",
       "zn            0.051794   0.052230   0.053800  0.052423  0.037272\n",
       "black         0.010158   0.010100   0.009132  0.008325  0.007012\n",
       "Unnamed: 0   -0.002684  -0.002573  -0.001486 -0.000479  0.001819\n",
       "age          -0.012691  -0.010708   0.006419  0.019934  0.044864\n",
       "tax          -0.013729  -0.014053  -0.015613 -0.016078 -0.012004\n",
       "indus        -0.044587  -0.042322  -0.022934 -0.000000 -0.000000\n",
       "crim         -0.100386  -0.100111  -0.089590 -0.073759 -0.018629\n",
       "nox          -0.144683  -0.000000  -0.000000 -0.000000 -0.000000\n",
       "lstat        -0.576316  -0.589166  -0.695025 -0.760875 -0.798066\n",
       "ptratio      -0.777041  -0.782782  -0.790314 -0.738564 -0.422896\n",
       "dis          -1.211129  -1.194755  -0.987266 -0.728611 -0.021446"
      ]
     },
     "execution_count": 10,
     "metadata": {},
     "output_type": "execute_result"
    }
   ],
   "source": [
    "# 반환된 coeff_elastic_df를 첫번째 컬럼 순으로 내림파순 정렬하여 회귀계수 DataFrame 출력\n",
    "sort_column = 'alpha:' + str(elastic_alphas[0])\n",
    "coeff_elastic_df.sort_values(by = sort_column, ascending = False)"
   ]
  },
  {
   "cell_type": "markdown",
   "metadata": {},
   "source": [
    "## 데이터 전처리\n",
    "- 피처 데이터 변환에 따른 예측 성능 비교"
   ]
  },
  {
   "cell_type": "code",
   "execution_count": 11,
   "metadata": {},
   "outputs": [
    {
     "name": "stdout",
     "output_type": "stream",
     "text": [
      "(506,)\n"
     ]
    },
    {
     "data": {
      "text/plain": [
       "(array([ 21.,  55.,  82., 154.,  84.,  41.,  30.,   8.,  10.,  21.]),\n",
       " array([ 5. ,  9.5, 14. , 18.5, 23. , 27.5, 32. , 36.5, 41. , 45.5, 50. ]),\n",
       " <BarContainer object of 10 artists>)"
      ]
     },
     "execution_count": 11,
     "metadata": {},
     "output_type": "execute_result"
    },
    {
     "data": {
      "image/png": "[encoded data removed]",
      "text/plain": [
       "<Figure size 432x288 with 1 Axes>"
      ]
     },
     "metadata": {
      "needs_background": "light"
     },
     "output_type": "display_data"
    }
   ],
   "source": [
    "print(y_target.shape)\n",
    "plt.hist(y_target, bins = 10)"
   ]
  },
  {
   "cell_type": "code",
   "execution_count": 12,
   "metadata": {},
   "outputs": [],
   "source": [
    "from sklearn.preprocessing import StandardScaler, MinMaxScaler, PolynomialFeatures\n",
    "\n",
    "# method는 표준 정규 분포 변환(Standard), 최대값/최소값 정규화(MinMax), 로그변환(Log) 결정\n",
    "# p_degree는 다항식 특성을 추가할 때 적용. p_degree는 2이상 부여하지 않음.\n",
    "def get_scaled_data(method = 'None', p_degree = None, input_data = None):\n",
    "    if method == 'Standard':\n",
    "        scaled_data = StandardScaler().fit_transform(input_data)\n",
    "    elif method == 'MinMax':\n",
    "        scaled_data = MinMaxScaler().fit_transform(input_data)\n",
    "    elif method == 'Log':\n",
    "        scaled_data = np.log1p(input_data)\n",
    "    else:\n",
    "        scaled_data = input_data\n",
    "\n",
    "    if p_degree != None:\n",
    "        scaled_data = PolynomialFeatures(degree = p_degree, include_bias = False).fit_transform(scaled_data)\n",
    "    \n",
    "    return scaled_data"
   ]
  },
  {
   "cell_type": "code",
   "execution_count": 14,
   "metadata": {},
   "outputs": [
    {
     "name": "stdout",
     "output_type": "stream",
     "text": [
      "\n",
      "## 변환 유형 : None, Polynomial Degree : None\n",
      "alpha 0.1일 때 5 fold 세트의 평균 RMSE : 5.807\n",
      "alpha 1일 때 5 fold 세트의 평균 RMSE : 5.693\n",
      "alpha 10일 때 5 fold 세트의 평균 RMSE : 5.604\n",
      "alpha 100일 때 5 fold 세트의 평균 RMSE : 5.500\n",
      "\n",
      "## 변환 유형 : Standard, Polynomial Degree : None\n",
      "alpha 0.1일 때 5 fold 세트의 평균 RMSE : 5.841\n",
      "alpha 1일 때 5 fold 세트의 평균 RMSE : 5.821\n",
      "alpha 10일 때 5 fold 세트의 평균 RMSE : 5.681\n",
      "alpha 100일 때 5 fold 세트의 평균 RMSE : 5.538\n",
      "\n",
      "## 변환 유형 : Standard, Polynomial Degree : 2\n",
      "alpha 0.1일 때 5 fold 세트의 평균 RMSE : 9.700\n",
      "alpha 1일 때 5 fold 세트의 평균 RMSE : 7.583\n",
      "alpha 10일 때 5 fold 세트의 평균 RMSE : 5.991\n",
      "alpha 100일 때 5 fold 세트의 평균 RMSE : 4.817\n",
      "\n",
      "## 변환 유형 : MinMax, Polynomial Degree : None\n",
      "alpha 0.1일 때 5 fold 세트의 평균 RMSE : 5.787\n",
      "alpha 1일 때 5 fold 세트의 평균 RMSE : 5.547\n",
      "alpha 10일 때 5 fold 세트의 평균 RMSE : 5.933\n",
      "alpha 100일 때 5 fold 세트의 평균 RMSE : 7.720\n",
      "\n",
      "## 변환 유형 : MinMax, Polynomial Degree : 2\n",
      "alpha 0.1일 때 5 fold 세트의 평균 RMSE : 6.187\n",
      "alpha 1일 때 5 fold 세트의 평균 RMSE : 4.567\n",
      "alpha 10일 때 5 fold 세트의 평균 RMSE : 5.306\n",
      "alpha 100일 때 5 fold 세트의 평균 RMSE : 6.625\n",
      "\n",
      "## 변환 유형 : Log, Polynomial Degree : None\n",
      "alpha 0.1일 때 5 fold 세트의 평균 RMSE : 4.788\n",
      "alpha 1일 때 5 fold 세트의 평균 RMSE : 4.791\n",
      "alpha 10일 때 5 fold 세트의 평균 RMSE : 5.252\n",
      "alpha 100일 때 5 fold 세트의 평균 RMSE : 6.591\n"
     ]
    }
   ],
   "source": [
    "# Ridge의 alpha값을 다르게 적용하고 다양한 데이터 변환방법에 따른 RMSE 추출\n",
    "alphas = [0.1, 1, 10, 100]\n",
    "\n",
    "# 변환 방법은 모두 6개, 원본 그대로, 표준정규분포, 표준정규분포 + 다항식 특성\n",
    "# 최대/최소 정규화, 최대/최소 정규화 + 다항식 특성, 로그 변환\n",
    "scale_methods = [(None, None), ('Standard', None), ('Standard', 2), ('MinMax', None), ('MinMax', 2), ('Log', None)]\n",
    "\n",
    "for scale_method in scale_methods:\n",
    "    X_data_scaled = get_scaled_data(method = scale_method[0], p_degree = scale_method[1], input_data = X_data)\n",
    "    print('\\n## 변환 유형 : {0}, Polynomial Degree : {1}'.format(scale_method[0], scale_method[1]))\n",
    "\n",
    "    # alpha값에 따른 회귀 모델의 폴드 평균 RMSE를 출력하고, 회귀 계수값들을 DataFrame으로 반환해주는 함수\n",
    "    get_linear_reg_eval('Ridge', params = alphas, X_data_n = X_data_scaled, y_target_n = y_target, verbose = False)"
   ]
  },
  {
   "cell_type": "markdown",
   "metadata": {},
   "source": [
    "## 로지스틱 회귀"
   ]
  },
  {
   "cell_type": "code",
   "execution_count": 15,
   "metadata": {},
   "outputs": [],
   "source": [
    "import pandas as pd\n",
    "import matplotlib.pyplot as plt\n",
    "%matplotlib inline\n",
    "\n",
    "from sklearn.datasets import load_breast_cancer\n",
    "from sklearn.linear_model import LogisticRegression\n",
    "\n",
    "# 위스콘신 유방암 데이터 불러오기\n",
    "cancer = load_breast_cancer()"
   ]
  },
  {
   "cell_type": "code",
   "execution_count": 16,
   "metadata": {},
   "outputs": [],
   "source": [
    "from sklearn.preprocessing import StandardScaler\n",
    "from sklearn.model_selection import train_test_split\n",
    "\n",
    "# StandardScaler()로 평균이 0, 분산 1로 데이터 분포도 변환\n",
    "scaler = StandardScaler()\n",
    "data_scaled = scaler.fit_transform(cancer.data)\n",
    "\n",
    "X_train, X_test, y_train, y_test = train_test_split(data_scaled, cancer.target, test_size = 0.3, random_state = 0)"
   ]
  },
  {
   "cell_type": "code",
   "execution_count": 17,
   "metadata": {},
   "outputs": [
    {
     "name": "stdout",
     "output_type": "stream",
     "text": [
      "accuracy : 0.977\n",
      "roc_auc: 0.972\n"
     ]
    }
   ],
   "source": [
    "from sklearn.metrics import accuracy_score, roc_auc_score\n",
    "\n",
    "# 로지스틱 회귀를 이용하여 학습 및 예측 수행\n",
    "lr_clf = LogisticRegression()\n",
    "\n",
    "lr_clf.fit(X_train, y_train)\n",
    "\n",
    "lr_preds = lr_clf.predict(X_test)\n",
    "\n",
    "# accuracy와 roc_auc 측정\n",
    "print('accuracy : {:0.3f}'.format(accuracy_score(y_test, lr_preds)))\n",
    "print('roc_auc: {:0.3f}'.format(roc_auc_score(y_test, lr_preds)))"
   ]
  },
  {
   "cell_type": "code",
   "execution_count": 19,
   "metadata": {},
   "outputs": [
    {
     "name": "stdout",
     "output_type": "stream",
     "text": [
      "최적 하이퍼 파라미터: {'C': 0.1, 'penalty': 'l2', 'solver': 'liblinear'}\n",
      "최적 평균 정확도: 0.9789102385593614\n"
     ]
    }
   ],
   "source": [
    "from sklearn.model_selection import GridSearchCV\n",
    "from sklearn.linear_model import LogisticRegression\n",
    "\n",
    "params = {'penalty': ['l2', 'l1'],\n",
    "          'C': [0.01, 0.1, 1, 5, 10],\n",
    "          'solver': ['liblinear']}  # l1 penalty를 지원하는 liblinear solver를 추가\n",
    "\n",
    "lr_clf = LogisticRegression()\n",
    "\n",
    "grid_clf = GridSearchCV(lr_clf, param_grid=params, scoring='accuracy', cv=3)\n",
    "grid_clf.fit(data_scaled, cancer.target)\n",
    "\n",
    "print('최적 하이퍼 파라미터:', grid_clf.best_params_)\n",
    "print('최적 평균 정확도:', grid_clf.best_score_)\n"
   ]
  },
  {
   "cell_type": "markdown",
   "metadata": {},
   "source": [
    "## 회귀 트리로 보스턴 집값 예측"
   ]
  },
  {
   "cell_type": "code",
   "execution_count": 21,
   "metadata": {},
   "outputs": [
    {
     "name": "stdout",
     "output_type": "stream",
     "text": [
      "5 folds의 개별 Negative MSE scores:  [ -9.47 -12.18 -20.73 -45.64 -31.4 ]\n",
      "5 fold의 RMSE scores : [3.08 3.49 4.55 6.76 5.6 ]\n",
      "5 fold의 평균 RMSE : 4.696\n"
     ]
    }
   ],
   "source": [
    "from sklearn.model_selection import cross_val_score\n",
    "from sklearn.ensemble import RandomForestRegressor\n",
    "import pandas as pd\n",
    "import numpy as np\n",
    "\n",
    "# 보스턴 데이터 세트 로드\n",
    "bostonDF = pd.read_csv('../datasets/Boston.csv')\n",
    "\n",
    "y_target = bostonDF['medv']\n",
    "X_data = bostonDF.drop(columns='medv')\n",
    "\n",
    "rf = RandomForestRegressor(random_state = 0, n_estimators = 1000)\n",
    "neg_mse_scores = cross_val_score(rf, X_data, y_target, scoring = 'neg_mean_squared_error', cv = 5)\n",
    "rmse_scores = np.sqrt(-1 * neg_mse_scores)\n",
    "avg_rmse = np.mean(rmse_scores)\n",
    "\n",
    "print('5 folds의 개별 Negative MSE scores: ', np.round(neg_mse_scores, 2))\n",
    "print('5 fold의 RMSE scores :', np.round(rmse_scores, 2))\n",
    "print('5 fold의 평균 RMSE : {0:.3f}'.format(avg_rmse))"
   ]
  },
  {
   "cell_type": "code",
   "execution_count": 23,
   "metadata": {},
   "outputs": [
    {
     "name": "stdout",
     "output_type": "stream",
     "text": [
      "### DecisionTreeRegressor ###\n",
      "1 교차 검증의 RMSE : 3.456\n",
      "2 교차 검증의 RMSE : 6.021\n",
      "3 교차 검증의 RMSE : 5.444\n",
      "4 교차 검증의 RMSE : 6.786\n",
      "5 교차 검증의 RMSE : 16.515\n",
      "DecisionTreeRegressor 평균 RMSE : 7.644\n",
      "### RandomForestRegressor ###\n",
      "1 교차 검증의 RMSE : 3.078\n",
      "2 교차 검증의 RMSE : 3.489\n",
      "3 교차 검증의 RMSE : 4.553\n",
      "4 교차 검증의 RMSE : 6.756\n",
      "5 교차 검증의 RMSE : 5.604\n",
      "RandomForestRegressor 평균 RMSE : 4.696\n",
      "### GradientBoostingRegressor ###\n",
      "1 교차 검증의 RMSE : 2.442\n",
      "2 교차 검증의 RMSE : 3.327\n",
      "3 교차 검증의 RMSE : 4.354\n",
      "4 교차 검증의 RMSE : 6.283\n",
      "5 교차 검증의 RMSE : 4.380\n",
      "GradientBoostingRegressor 평균 RMSE : 4.157\n"
     ]
    }
   ],
   "source": [
    "# 3개 회귀 트리 모델로 회귀 수행\n",
    "\n",
    "from sklearn.tree import DecisionTreeRegressor\n",
    "from sklearn.ensemble import GradientBoostingRegressor\n",
    "from sklearn.model_selection import cross_val_score\n",
    "\n",
    "def get_model_cv_prediction(model, X_data, y_target):\n",
    "    # 5-Fold 교차 검증 수행\n",
    "    neg_mse_scores = cross_val_score(model, X_data, y_target, scoring='neg_mean_squared_error', cv=5)\n",
    "    rmse_scores = np.sqrt(-1 * neg_mse_scores)  # RMSE는 음수값으로 반환되므로 다시 양수로 변환\n",
    "\n",
    "    # 각 Fold별 RMSE 및 평균 RMSE 출력\n",
    "    print('###', model.__class__.__name__, '###')\n",
    "    for i, score in enumerate(rmse_scores):\n",
    "        print(f'{i + 1} 교차 검증의 RMSE : {score:.3f}')\n",
    "    print(f'{model.__class__.__name__} 평균 RMSE : {np.mean(rmse_scores):.3f}')\n",
    "\n",
    "# 사용 예시\n",
    "dt_reg = DecisionTreeRegressor(random_state=0, max_depth=4)\n",
    "rf_reg = RandomForestRegressor(random_state=0, n_estimators=1000)\n",
    "gb_reg = GradientBoostingRegressor(random_state=0, n_estimators=1000)\n",
    "\n",
    "models = [dt_reg, rf_reg, gb_reg]\n",
    "for model in models:\n",
    "    get_model_cv_prediction(model, X_data, y_target)"
   ]
  },
  {
   "cell_type": "code",
   "execution_count": 24,
   "metadata": {},
   "outputs": [
    {
     "data": {
      "text/plain": [
       "<AxesSubplot:>"
      ]
     },
     "execution_count": 24,
     "metadata": {},
     "output_type": "execute_result"
    },
    {
     "data": {
      "image/png": "[encoded data removed]",
      "text/plain": [
       "<Figure size 432x288 with 1 Axes>"
      ]
     },
     "metadata": {
      "needs_background": "light"
     },
     "output_type": "display_data"
    }
   ],
   "source": [
    "import seaborn as sns\n",
    "%matplotlib inline\n",
    "\n",
    "rf_reg = RandomForestRegressor(n_estimators = 1000)\n",
    "\n",
    "rf_reg.fit(X_data, y_target)\n",
    "\n",
    "feature_series = pd.Series(data = rf_reg.feature_importances_, index = X_data.columns)\n",
    "feature_series = feature_series.sort_values(ascending = False)\n",
    "sns.barplot(x = feature_series, y = feature_series.index)"
   ]
  },
  {
   "cell_type": "markdown",
   "metadata": {},
   "source": [
    "### 회귀 트리의 오버 피팅 시각화"
   ]
  },
  {
   "cell_type": "code",
   "execution_count": 28,
   "metadata": {},
   "outputs": [
    {
     "name": "stdout",
     "output_type": "stream",
     "text": [
      "(100, 2)\n"
     ]
    },
    {
     "data": {
      "text/plain": [
       "<matplotlib.collections.PathCollection at 0x7fcae9e801c0>"
      ]
     },
     "execution_count": 28,
     "metadata": {},
     "output_type": "execute_result"
    },
    {
     "data": {
      "image/png": "[encoded data removed]",
      "text/plain": [
       "<Figure size 432x288 with 1 Axes>"
      ]
     },
     "metadata": {
      "needs_background": "light"
     },
     "output_type": "display_data"
    }
   ],
   "source": [
    "bostonDF_sample = bostonDF[['rm', \"medv\"]]\n",
    "bostonDF_sample = bostonDF_sample.sample(n = 100, random_state = 0)\n",
    "print(bostonDF_sample.shape)\n",
    "plt.figure()\n",
    "plt.scatter(bostonDF_sample['rm'], bostonDF_sample['medv'], c = 'darkorange')"
   ]
  },
  {
   "cell_type": "code",
   "execution_count": 29,
   "metadata": {},
   "outputs": [],
   "source": [
    "import numpy as np\n",
    "from sklearn.linear_model import LinearRegression\n",
    "\n",
    "# 선형 회귀와 결정 트리 기반의 Regressor 생성. DecisionTreeRegressor의 max_depth는 각각 2, 7\n",
    "lr_reg = LinearRegression()\n",
    "rf_reg2 = DecisionTreeRegressor(max_depth = 2)\n",
    "rf_reg7 = DecisionTreeRegressor(max_depth = 7)\n",
    "\n",
    "# 실제 예측을 적용할 테스트용 데이터 셋을 4.5 - 8.5까지 100개의 데이터 셋 생성\n",
    "X_test = np.arange(4.5, 8.5, 0.04).reshape(-1, 1)\n",
    "\n",
    "# 보스턴 주택가격 데이터에서 시각화를 위해 피처는 rm만, 그리고 결정 데이터인 medv 추출\n",
    "X_feature = bostonDF_sample['rm'].values.reshape(-1, 1)\n",
    "y_target = bostonDF_sample['medv'].values.reshape(-1, 1)\n",
    "\n",
    "# 학습과 예측 수행\n",
    "lr_reg.fit(X_feature, y_target)\n",
    "rf_reg2.fit(X_feature, y_target)\n",
    "rf_reg7.fit(X_feature, y_target)\n",
    "\n",
    "pred_lr = lr_reg.predict(X_test)\n",
    "pred_rf2 = rf_reg2.predict(X_test)\n",
    "pred_rf7 = rf_reg7.predict(X_test)"
   ]
  },
  {
   "cell_type": "code",
   "execution_count": 30,
   "metadata": {},
   "outputs": [
    {
     "data": {
      "text/plain": [
       "[<matplotlib.lines.Line2D at 0x7fcb4a33db20>]"
      ]
     },
     "execution_count": 30,
     "metadata": {},
     "output_type": "execute_result"
    },
    {
     "data": {
      "image/png": "[encoded data removed]",
      "text/plain": [
       "<Figure size 1008x288 with 3 Axes>"
      ]
     },
     "metadata": {
      "needs_background": "light"
     },
     "output_type": "display_data"
    }
   ],
   "source": [
    "fig, (ax1, ax2, ax3) = plt.subplots(figsize = (14, 4), ncols = 3)\n",
    "\n",
    "# X축 값을 4.5 0 8.5로 변환하며 입력했을 때, 선형 회귀와 결정 트리 회귀 예측 선 시각화\n",
    "# 선형 회귀로 학습된 모델 회귀 예측선\n",
    "ax1.set_title('Linear Regression')\n",
    "ax1.scatter(bostonDF_sample['rm'], bostonDF_sample['medv'], c = 'darkorange')\n",
    "ax1.plot(X_test, pred_lr, label = 'linear', linewidth = 2)\n",
    "\n",
    "# DecisionTreeRegressor의 max_depth를 2로 했을 때 회귀 예측선\n",
    "ax2.set_title('Decision Tree Regression: \\n max_depth = 2')\n",
    "ax2.scatter(bostonDF_sample['rm'], bostonDF_sample['medv'], c = 'darkorange')\n",
    "ax2.plot(X_test, pred_rf2, label = 'max_depth : 3', linewidth = 2)\n",
    "\n",
    "# DecisionTreeRegressor의 max_depth를 7로 했을 때 회귀 예측선\n",
    "ax3.set_title('Decision Tree Regression: \\n max_depth = 7')\n",
    "ax3.scatter(bostonDF_sample['rm'], bostonDF_sample['medv'], c = 'darkorange')\n",
    "ax3.plot(X_test, pred_rf7, label = 'max_depth : 7', linewidth = 2)"
   ]
  },
  {
   "cell_type": "code",
   "execution_count": null,
   "metadata": {},
   "outputs": [],
   "source": []
  }
 ],
 "metadata": {
  "kernelspec": {
   "display_name": "base",
   "language": "python",
   "name": "python3"
  },
  "language_info": {
   "codemirror_mode": {
    "name": "ipython",
    "version": 3
   },
   "file_extension": ".py",
   "mimetype": "text/x-python",
   "name": "python",
   "nbconvert_exporter": "python",
   "pygments_lexer": "ipython3",
   "version": "3.8.8"
  },
  "orig_nbformat": 4
 },
 "nbformat": 4,
 "nbformat_minor": 2
}
